{
  "nbformat": 4,
  "nbformat_minor": 0,
  "metadata": {
    "colab": {
      "name": "Strong/Weak Password?.ipynb",
      "provenance": [],
      "collapsed_sections": []
    },
    "kernelspec": {
      "name": "python3",
      "display_name": "Python 3"
    }
  },
  "cells": [
    {
      "cell_type": "code",
      "metadata": {
        "id": "NRPTo5ZbeL1Y",
        "colab_type": "code",
        "colab": {}
      },
      "source": [
        "import re\n",
        "p=re.compile(r'''(^(?=.*[A-Z])(?=.*[!@#$%^&*])(?=.*[0-9])(?=.*[a-z]).{8,} $)''', re.VERBOSE) # mix of capital,special characters,alphabet,numbers #total 8 characters\n",
        "def checkpassword():\n",
        "  pw=input(\"Enter Your Password?\\n\")\n",
        "  p=password.search(pw)\n",
        "  if(not m):\n",
        "    print(\"Weak Password!!\")\n",
        "    return False\n",
        "  else:\n",
        "    print(\"Strong Password!\")\n",
        "    return True\n",
        "  checkpassword()"
      ],
      "execution_count": 0,
      "outputs": []
    },
    {
      "cell_type": "code",
      "metadata": {
        "id": "0COy6QDuhqdl",
        "colab_type": "code",
        "colab": {}
      },
      "source": [
        ""
      ],
      "execution_count": 0,
      "outputs": []
    }
  ]
}